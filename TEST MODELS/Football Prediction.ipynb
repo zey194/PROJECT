{
 "cells": [
  {
   "cell_type": "code",
   "execution_count": 2,
   "id": "cb90e798",
   "metadata": {
    "ExecuteTime": {
     "end_time": "2024-04-25T17:56:10.219290Z",
     "start_time": "2024-04-25T17:56:08.346143Z"
    }
   },
   "outputs": [],
   "source": [
    "import pandas as pd\n",
    "import matplotlib.pyplot as plt\n",
    "import numpy as np\n",
    "import seaborn as sns\n",
    "from datetime import datetime as dt\n",
    "import itertools\n",
    "\n",
    "%matplotlib inline"
   ]
  },
  {
   "cell_type": "code",
   "execution_count": 3,
   "id": "8cd8e655",
   "metadata": {
    "ExecuteTime": {
     "end_time": "2024-04-25T17:56:10.934992Z",
     "start_time": "2024-04-25T17:56:10.631836Z"
    }
   },
   "outputs": [],
   "source": [
    "dataset = pd.read_csv('final_dataset.csv')"
   ]
  },
  {
   "cell_type": "code",
   "execution_count": 3,
   "outputs": [],
   "source": [],
   "metadata": {
    "collapsed": false,
    "ExecuteTime": {
     "end_time": "2024-04-25T17:56:10.951575Z",
     "start_time": "2024-04-25T17:56:10.938822Z"
    }
   },
   "id": "b3213ef2cb8a98dc"
  },
  {
   "cell_type": "code",
   "execution_count": 4,
   "id": "78b8d478",
   "metadata": {
    "ExecuteTime": {
     "end_time": "2024-04-25T17:56:11.998308Z",
     "start_time": "2024-04-25T17:56:10.954549Z"
    }
   },
   "outputs": [
    {
     "data": {
      "text/plain": "      Unnamed: 0      Date     HomeTeam       AwayTeam  FTHG  FTAG FTR  HTGS  \\\n0              0  19/08/00     Charlton       Man City     4     0   H     0   \n1              1  19/08/00      Chelsea       West Ham     4     2   H     0   \n2              2  19/08/00     Coventry  Middlesbrough     1     3  NH     0   \n3              3  19/08/00        Derby    Southampton     2     2  NH     0   \n4              4  19/08/00        Leeds        Everton     2     0   H     0   \n...          ...       ...          ...            ...   ...   ...  ..   ...   \n6835        6835  13/05/18    Newcastle        Chelsea     3     0   H    36   \n6836        6836  13/05/18  Southampton       Man City     0     1  NH    37   \n6837        6837  13/05/18      Swansea          Stoke     1     2  NH    27   \n6838        6838  13/05/18    Tottenham      Leicester     5     4   H    69   \n6839        6839  13/05/18     West Ham        Everton     3     1   H    45   \n\n      ATGS  HTGC  ...  HTLossStreak3  HTLossStreak5  ATWinStreak3  \\\n0        0     0  ...              0              0             0   \n1        0     0  ...              0              0             0   \n2        0     0  ...              0              0             0   \n3        0     0  ...              0              0             0   \n4        0     0  ...              0              0             0   \n...    ...   ...  ...            ...            ...           ...   \n6835    62    47  ...              0              0             1   \n6836   105    55  ...              0              0             1   \n6837    33    54  ...              0              0             0   \n6838    52    32  ...              0              0             0   \n6839    43    67  ...              0              0             0   \n\n     ATWinStreak5 ATLossStreak3 ATLossStreak5      HTGD      ATGD   DiffPts  \\\n0               0             0             0  0.000000  0.000000  0.000000   \n1               0             0             0  0.000000  0.000000  0.000000   \n2               0             0             0  0.000000  0.000000  0.000000   \n3               0             0             0  0.000000  0.000000  0.000000   \n4               0             0             0  0.000000  0.000000  0.000000   \n...           ...           ...           ...       ...       ...       ...   \n6835            0             0             0 -0.289474  0.710526 -0.763158   \n6836            0             0             0 -0.473684  2.052632 -1.605263   \n6837            0             0             0 -0.710526 -0.894737  0.078947   \n6838            0             0             0  0.973684 -0.078947  0.710526   \n6839            0             0             0 -0.578947 -0.315789 -0.263158   \n\n     DiffFormPts  \n0       0.000000  \n1       0.000000  \n2       0.000000  \n3       0.000000  \n4       0.000000  \n...          ...  \n6835   -0.263158  \n6836   -0.131579  \n6837   -0.052632  \n6838    0.078947  \n6839   -0.105263  \n\n[6840 rows x 40 columns]",
      "text/html": "<div>\n<style scoped>\n    .dataframe tbody tr th:only-of-type {\n        vertical-align: middle;\n    }\n\n    .dataframe tbody tr th {\n        vertical-align: top;\n    }\n\n    .dataframe thead th {\n        text-align: right;\n    }\n</style>\n<table border=\"1\" class=\"dataframe\">\n  <thead>\n    <tr style=\"text-align: right;\">\n      <th></th>\n      <th>Unnamed: 0</th>\n      <th>Date</th>\n      <th>HomeTeam</th>\n      <th>AwayTeam</th>\n      <th>FTHG</th>\n      <th>FTAG</th>\n      <th>FTR</th>\n      <th>HTGS</th>\n      <th>ATGS</th>\n      <th>HTGC</th>\n      <th>...</th>\n      <th>HTLossStreak3</th>\n      <th>HTLossStreak5</th>\n      <th>ATWinStreak3</th>\n      <th>ATWinStreak5</th>\n      <th>ATLossStreak3</th>\n      <th>ATLossStreak5</th>\n      <th>HTGD</th>\n      <th>ATGD</th>\n      <th>DiffPts</th>\n      <th>DiffFormPts</th>\n    </tr>\n  </thead>\n  <tbody>\n    <tr>\n      <th>0</th>\n      <td>0</td>\n      <td>19/08/00</td>\n      <td>Charlton</td>\n      <td>Man City</td>\n      <td>4</td>\n      <td>0</td>\n      <td>H</td>\n      <td>0</td>\n      <td>0</td>\n      <td>0</td>\n      <td>...</td>\n      <td>0</td>\n      <td>0</td>\n      <td>0</td>\n      <td>0</td>\n      <td>0</td>\n      <td>0</td>\n      <td>0.000000</td>\n      <td>0.000000</td>\n      <td>0.000000</td>\n      <td>0.000000</td>\n    </tr>\n    <tr>\n      <th>1</th>\n      <td>1</td>\n      <td>19/08/00</td>\n      <td>Chelsea</td>\n      <td>West Ham</td>\n      <td>4</td>\n      <td>2</td>\n      <td>H</td>\n      <td>0</td>\n      <td>0</td>\n      <td>0</td>\n      <td>...</td>\n      <td>0</td>\n      <td>0</td>\n      <td>0</td>\n      <td>0</td>\n      <td>0</td>\n      <td>0</td>\n      <td>0.000000</td>\n      <td>0.000000</td>\n      <td>0.000000</td>\n      <td>0.000000</td>\n    </tr>\n    <tr>\n      <th>2</th>\n      <td>2</td>\n      <td>19/08/00</td>\n      <td>Coventry</td>\n      <td>Middlesbrough</td>\n      <td>1</td>\n      <td>3</td>\n      <td>NH</td>\n      <td>0</td>\n      <td>0</td>\n      <td>0</td>\n      <td>...</td>\n      <td>0</td>\n      <td>0</td>\n      <td>0</td>\n      <td>0</td>\n      <td>0</td>\n      <td>0</td>\n      <td>0.000000</td>\n      <td>0.000000</td>\n      <td>0.000000</td>\n      <td>0.000000</td>\n    </tr>\n    <tr>\n      <th>3</th>\n      <td>3</td>\n      <td>19/08/00</td>\n      <td>Derby</td>\n      <td>Southampton</td>\n      <td>2</td>\n      <td>2</td>\n      <td>NH</td>\n      <td>0</td>\n      <td>0</td>\n      <td>0</td>\n      <td>...</td>\n      <td>0</td>\n      <td>0</td>\n      <td>0</td>\n      <td>0</td>\n      <td>0</td>\n      <td>0</td>\n      <td>0.000000</td>\n      <td>0.000000</td>\n      <td>0.000000</td>\n      <td>0.000000</td>\n    </tr>\n    <tr>\n      <th>4</th>\n      <td>4</td>\n      <td>19/08/00</td>\n      <td>Leeds</td>\n      <td>Everton</td>\n      <td>2</td>\n      <td>0</td>\n      <td>H</td>\n      <td>0</td>\n      <td>0</td>\n      <td>0</td>\n      <td>...</td>\n      <td>0</td>\n      <td>0</td>\n      <td>0</td>\n      <td>0</td>\n      <td>0</td>\n      <td>0</td>\n      <td>0.000000</td>\n      <td>0.000000</td>\n      <td>0.000000</td>\n      <td>0.000000</td>\n    </tr>\n    <tr>\n      <th>...</th>\n      <td>...</td>\n      <td>...</td>\n      <td>...</td>\n      <td>...</td>\n      <td>...</td>\n      <td>...</td>\n      <td>...</td>\n      <td>...</td>\n      <td>...</td>\n      <td>...</td>\n      <td>...</td>\n      <td>...</td>\n      <td>...</td>\n      <td>...</td>\n      <td>...</td>\n      <td>...</td>\n      <td>...</td>\n      <td>...</td>\n      <td>...</td>\n      <td>...</td>\n      <td>...</td>\n    </tr>\n    <tr>\n      <th>6835</th>\n      <td>6835</td>\n      <td>13/05/18</td>\n      <td>Newcastle</td>\n      <td>Chelsea</td>\n      <td>3</td>\n      <td>0</td>\n      <td>H</td>\n      <td>36</td>\n      <td>62</td>\n      <td>47</td>\n      <td>...</td>\n      <td>0</td>\n      <td>0</td>\n      <td>1</td>\n      <td>0</td>\n      <td>0</td>\n      <td>0</td>\n      <td>-0.289474</td>\n      <td>0.710526</td>\n      <td>-0.763158</td>\n      <td>-0.263158</td>\n    </tr>\n    <tr>\n      <th>6836</th>\n      <td>6836</td>\n      <td>13/05/18</td>\n      <td>Southampton</td>\n      <td>Man City</td>\n      <td>0</td>\n      <td>1</td>\n      <td>NH</td>\n      <td>37</td>\n      <td>105</td>\n      <td>55</td>\n      <td>...</td>\n      <td>0</td>\n      <td>0</td>\n      <td>1</td>\n      <td>0</td>\n      <td>0</td>\n      <td>0</td>\n      <td>-0.473684</td>\n      <td>2.052632</td>\n      <td>-1.605263</td>\n      <td>-0.131579</td>\n    </tr>\n    <tr>\n      <th>6837</th>\n      <td>6837</td>\n      <td>13/05/18</td>\n      <td>Swansea</td>\n      <td>Stoke</td>\n      <td>1</td>\n      <td>2</td>\n      <td>NH</td>\n      <td>27</td>\n      <td>33</td>\n      <td>54</td>\n      <td>...</td>\n      <td>0</td>\n      <td>0</td>\n      <td>0</td>\n      <td>0</td>\n      <td>0</td>\n      <td>0</td>\n      <td>-0.710526</td>\n      <td>-0.894737</td>\n      <td>0.078947</td>\n      <td>-0.052632</td>\n    </tr>\n    <tr>\n      <th>6838</th>\n      <td>6838</td>\n      <td>13/05/18</td>\n      <td>Tottenham</td>\n      <td>Leicester</td>\n      <td>5</td>\n      <td>4</td>\n      <td>H</td>\n      <td>69</td>\n      <td>52</td>\n      <td>32</td>\n      <td>...</td>\n      <td>0</td>\n      <td>0</td>\n      <td>0</td>\n      <td>0</td>\n      <td>0</td>\n      <td>0</td>\n      <td>0.973684</td>\n      <td>-0.078947</td>\n      <td>0.710526</td>\n      <td>0.078947</td>\n    </tr>\n    <tr>\n      <th>6839</th>\n      <td>6839</td>\n      <td>13/05/18</td>\n      <td>West Ham</td>\n      <td>Everton</td>\n      <td>3</td>\n      <td>1</td>\n      <td>H</td>\n      <td>45</td>\n      <td>43</td>\n      <td>67</td>\n      <td>...</td>\n      <td>0</td>\n      <td>0</td>\n      <td>0</td>\n      <td>0</td>\n      <td>0</td>\n      <td>0</td>\n      <td>-0.578947</td>\n      <td>-0.315789</td>\n      <td>-0.263158</td>\n      <td>-0.105263</td>\n    </tr>\n  </tbody>\n</table>\n<p>6840 rows × 40 columns</p>\n</div>"
     },
     "execution_count": 4,
     "metadata": {},
     "output_type": "execute_result"
    }
   ],
   "source": [
    "dataset"
   ]
  },
  {
   "cell_type": "code",
   "execution_count": 5,
   "id": "c1ec4879",
   "metadata": {
    "ExecuteTime": {
     "end_time": "2024-04-25T17:56:36.517051Z",
     "start_time": "2024-04-25T17:56:11.469440Z"
    }
   },
   "outputs": [
    {
     "data": {
      "text/plain": "                     Unnamed: 0                                             \\\n                          count         mean          std     min      25%   \nHomeTeam AwayTeam                                                            \nArsenal  Aston Villa       16.0  3029.625000  1868.459504    79.0  1490.50   \n         Birmingham         7.0  2304.285714  1135.398860   767.0  1578.50   \n         Blackburn         11.0  2443.454545  1320.638434   460.0  1419.50   \n         Blackpool          1.0  3810.000000          NaN  3810.0  3810.00   \n         Bolton            11.0  2423.545455  1259.472617   429.0  1494.50   \n...                         ...          ...          ...     ...      ...   \nWolves   Swansea            1.0  4263.000000          NaN  4263.0  4263.00   \n         Tottenham          4.0  3372.500000  1257.249246  1519.0  3133.00   \n         West Brom          2.0  4293.000000   192.333044  4157.0  4225.00   \n         West Ham           2.0  3651.500000   317.490945  3427.0  3539.25   \n         Wigan              3.0  3963.666667   331.732322  3625.0  3801.50   \n\n                                               FTHG            ...   DiffPts  \\\n                         50%      75%     max count      mean  ...       75%   \nHomeTeam AwayTeam                                              ...             \nArsenal  Aston Villa  3043.5  4557.00  6070.0  16.0  2.375000  ...  0.822222   \n         Birmingham   1971.0  3182.50  3870.0   7.0  1.714286  ...  1.100000   \n         Blackburn    2459.0  3405.00  4410.0  11.0  3.272727  ...  1.050000   \n         Blackpool    3810.0  3810.00  3810.0   1.0  6.000000  ... -1.000000   \n         Bolton       2605.0  3433.50  4229.0  11.0  2.181818  ...  0.988095   \n...                      ...      ...     ...   ...       ...  ...       ...   \nWolves   Swansea      4263.0  4263.00  4263.0   1.0  2.000000  ... -0.111111   \n         Tottenham    3878.0  4117.50  4215.0   4.0  1.000000  ...  0.072368   \n         West Brom    4293.0  4361.00  4429.0   2.0  2.000000  ... -0.212500   \n         West Ham     3651.5  3763.75  3876.0   2.0  0.500000  ...  0.000000   \n         Wigan        3978.0  4133.00  4288.0   3.0  1.333333  ...  0.108586   \n\n                               DiffFormPts                                \\\n                           max       count      mean       std       min   \nHomeTeam AwayTeam                                                          \nArsenal  Aston Villa  1.666667        16.0  0.286139  0.442780 -0.125000   \n         Birmingham   1.333333         7.0  0.309864  0.268743  0.000000   \n         Blackburn    1.666667        11.0  0.352797  0.518415 -0.125000   \n         Blackpool   -1.000000         1.0 -1.000000       NaN -1.000000   \n         Bolton       1.888889        11.0  0.315257  0.464167 -0.600000   \n...                        ...         ...       ...       ...       ...   \nWolves   Swansea     -0.111111         1.0 -0.666667       NaN -0.666667   \n         Tottenham    1.000000         4.0  0.234259  0.516044 -0.103448   \n         West Brom   -0.200000         2.0 -0.111111  0.157135 -0.222222   \n         West Ham     0.000000         2.0 -0.250000  0.353553 -0.500000   \n         Wigan        0.272727         3.0  0.064695  0.023047  0.047619   \n\n                                                              \n                           25%       50%       75%       max  \nHomeTeam AwayTeam                                             \nArsenal  Aston Villa  0.000000  0.185185  0.367316  1.666667  \n         Birmingham   0.090476  0.238095  0.562500  0.625000  \n         Blackburn    0.038462  0.153846  0.466667  1.666667  \n         Blackpool   -1.000000 -1.000000 -1.000000 -1.000000  \n         Bolton       0.075000  0.285714  0.550000  1.111111  \n...                        ...       ...       ...       ...  \nWolves   Swansea     -0.666667 -0.666667 -0.666667 -0.666667  \n         Tottenham   -0.054708  0.020243  0.309211  1.000000  \n         West Brom   -0.166667 -0.111111 -0.055556  0.000000  \n         West Ham    -0.375000 -0.250000 -0.125000  0.000000  \n         Wigan        0.051587  0.055556  0.073232  0.090909  \n\n[1422 rows x 192 columns]",
      "text/html": "<div>\n<style scoped>\n    .dataframe tbody tr th:only-of-type {\n        vertical-align: middle;\n    }\n\n    .dataframe tbody tr th {\n        vertical-align: top;\n    }\n\n    .dataframe thead tr th {\n        text-align: left;\n    }\n\n    .dataframe thead tr:last-of-type th {\n        text-align: right;\n    }\n</style>\n<table border=\"1\" class=\"dataframe\">\n  <thead>\n    <tr>\n      <th></th>\n      <th></th>\n      <th colspan=\"8\" halign=\"left\">Unnamed: 0</th>\n      <th colspan=\"2\" halign=\"left\">FTHG</th>\n      <th>...</th>\n      <th colspan=\"2\" halign=\"left\">DiffPts</th>\n      <th colspan=\"8\" halign=\"left\">DiffFormPts</th>\n    </tr>\n    <tr>\n      <th></th>\n      <th></th>\n      <th>count</th>\n      <th>mean</th>\n      <th>std</th>\n      <th>min</th>\n      <th>25%</th>\n      <th>50%</th>\n      <th>75%</th>\n      <th>max</th>\n      <th>count</th>\n      <th>mean</th>\n      <th>...</th>\n      <th>75%</th>\n      <th>max</th>\n      <th>count</th>\n      <th>mean</th>\n      <th>std</th>\n      <th>min</th>\n      <th>25%</th>\n      <th>50%</th>\n      <th>75%</th>\n      <th>max</th>\n    </tr>\n    <tr>\n      <th>HomeTeam</th>\n      <th>AwayTeam</th>\n      <th></th>\n      <th></th>\n      <th></th>\n      <th></th>\n      <th></th>\n      <th></th>\n      <th></th>\n      <th></th>\n      <th></th>\n      <th></th>\n      <th></th>\n      <th></th>\n      <th></th>\n      <th></th>\n      <th></th>\n      <th></th>\n      <th></th>\n      <th></th>\n      <th></th>\n      <th></th>\n      <th></th>\n    </tr>\n  </thead>\n  <tbody>\n    <tr>\n      <th rowspan=\"5\" valign=\"top\">Arsenal</th>\n      <th>Aston Villa</th>\n      <td>16.0</td>\n      <td>3029.625000</td>\n      <td>1868.459504</td>\n      <td>79.0</td>\n      <td>1490.50</td>\n      <td>3043.5</td>\n      <td>4557.00</td>\n      <td>6070.0</td>\n      <td>16.0</td>\n      <td>2.375000</td>\n      <td>...</td>\n      <td>0.822222</td>\n      <td>1.666667</td>\n      <td>16.0</td>\n      <td>0.286139</td>\n      <td>0.442780</td>\n      <td>-0.125000</td>\n      <td>0.000000</td>\n      <td>0.185185</td>\n      <td>0.367316</td>\n      <td>1.666667</td>\n    </tr>\n    <tr>\n      <th>Birmingham</th>\n      <td>7.0</td>\n      <td>2304.285714</td>\n      <td>1135.398860</td>\n      <td>767.0</td>\n      <td>1578.50</td>\n      <td>1971.0</td>\n      <td>3182.50</td>\n      <td>3870.0</td>\n      <td>7.0</td>\n      <td>1.714286</td>\n      <td>...</td>\n      <td>1.100000</td>\n      <td>1.333333</td>\n      <td>7.0</td>\n      <td>0.309864</td>\n      <td>0.268743</td>\n      <td>0.000000</td>\n      <td>0.090476</td>\n      <td>0.238095</td>\n      <td>0.562500</td>\n      <td>0.625000</td>\n    </tr>\n    <tr>\n      <th>Blackburn</th>\n      <td>11.0</td>\n      <td>2443.454545</td>\n      <td>1320.638434</td>\n      <td>460.0</td>\n      <td>1419.50</td>\n      <td>2459.0</td>\n      <td>3405.00</td>\n      <td>4410.0</td>\n      <td>11.0</td>\n      <td>3.272727</td>\n      <td>...</td>\n      <td>1.050000</td>\n      <td>1.666667</td>\n      <td>11.0</td>\n      <td>0.352797</td>\n      <td>0.518415</td>\n      <td>-0.125000</td>\n      <td>0.038462</td>\n      <td>0.153846</td>\n      <td>0.466667</td>\n      <td>1.666667</td>\n    </tr>\n    <tr>\n      <th>Blackpool</th>\n      <td>1.0</td>\n      <td>3810.000000</td>\n      <td>NaN</td>\n      <td>3810.0</td>\n      <td>3810.00</td>\n      <td>3810.0</td>\n      <td>3810.00</td>\n      <td>3810.0</td>\n      <td>1.0</td>\n      <td>6.000000</td>\n      <td>...</td>\n      <td>-1.000000</td>\n      <td>-1.000000</td>\n      <td>1.0</td>\n      <td>-1.000000</td>\n      <td>NaN</td>\n      <td>-1.000000</td>\n      <td>-1.000000</td>\n      <td>-1.000000</td>\n      <td>-1.000000</td>\n      <td>-1.000000</td>\n    </tr>\n    <tr>\n      <th>Bolton</th>\n      <td>11.0</td>\n      <td>2423.545455</td>\n      <td>1259.472617</td>\n      <td>429.0</td>\n      <td>1494.50</td>\n      <td>2605.0</td>\n      <td>3433.50</td>\n      <td>4229.0</td>\n      <td>11.0</td>\n      <td>2.181818</td>\n      <td>...</td>\n      <td>0.988095</td>\n      <td>1.888889</td>\n      <td>11.0</td>\n      <td>0.315257</td>\n      <td>0.464167</td>\n      <td>-0.600000</td>\n      <td>0.075000</td>\n      <td>0.285714</td>\n      <td>0.550000</td>\n      <td>1.111111</td>\n    </tr>\n    <tr>\n      <th>...</th>\n      <th>...</th>\n      <td>...</td>\n      <td>...</td>\n      <td>...</td>\n      <td>...</td>\n      <td>...</td>\n      <td>...</td>\n      <td>...</td>\n      <td>...</td>\n      <td>...</td>\n      <td>...</td>\n      <td>...</td>\n      <td>...</td>\n      <td>...</td>\n      <td>...</td>\n      <td>...</td>\n      <td>...</td>\n      <td>...</td>\n      <td>...</td>\n      <td>...</td>\n      <td>...</td>\n      <td>...</td>\n    </tr>\n    <tr>\n      <th rowspan=\"5\" valign=\"top\">Wolves</th>\n      <th>Swansea</th>\n      <td>1.0</td>\n      <td>4263.000000</td>\n      <td>NaN</td>\n      <td>4263.0</td>\n      <td>4263.00</td>\n      <td>4263.0</td>\n      <td>4263.00</td>\n      <td>4263.0</td>\n      <td>1.0</td>\n      <td>2.000000</td>\n      <td>...</td>\n      <td>-0.111111</td>\n      <td>-0.111111</td>\n      <td>1.0</td>\n      <td>-0.666667</td>\n      <td>NaN</td>\n      <td>-0.666667</td>\n      <td>-0.666667</td>\n      <td>-0.666667</td>\n      <td>-0.666667</td>\n      <td>-0.666667</td>\n    </tr>\n    <tr>\n      <th>Tottenham</th>\n      <td>4.0</td>\n      <td>3372.500000</td>\n      <td>1257.249246</td>\n      <td>1519.0</td>\n      <td>3133.00</td>\n      <td>3878.0</td>\n      <td>4117.50</td>\n      <td>4215.0</td>\n      <td>4.0</td>\n      <td>1.000000</td>\n      <td>...</td>\n      <td>0.072368</td>\n      <td>1.000000</td>\n      <td>4.0</td>\n      <td>0.234259</td>\n      <td>0.516044</td>\n      <td>-0.103448</td>\n      <td>-0.054708</td>\n      <td>0.020243</td>\n      <td>0.309211</td>\n      <td>1.000000</td>\n    </tr>\n    <tr>\n      <th>West Brom</th>\n      <td>2.0</td>\n      <td>4293.000000</td>\n      <td>192.333044</td>\n      <td>4157.0</td>\n      <td>4225.00</td>\n      <td>4293.0</td>\n      <td>4361.00</td>\n      <td>4429.0</td>\n      <td>2.0</td>\n      <td>2.000000</td>\n      <td>...</td>\n      <td>-0.212500</td>\n      <td>-0.200000</td>\n      <td>2.0</td>\n      <td>-0.111111</td>\n      <td>0.157135</td>\n      <td>-0.222222</td>\n      <td>-0.166667</td>\n      <td>-0.111111</td>\n      <td>-0.055556</td>\n      <td>0.000000</td>\n    </tr>\n    <tr>\n      <th>West Ham</th>\n      <td>2.0</td>\n      <td>3651.500000</td>\n      <td>317.490945</td>\n      <td>3427.0</td>\n      <td>3539.25</td>\n      <td>3651.5</td>\n      <td>3763.75</td>\n      <td>3876.0</td>\n      <td>2.0</td>\n      <td>0.500000</td>\n      <td>...</td>\n      <td>0.000000</td>\n      <td>0.000000</td>\n      <td>2.0</td>\n      <td>-0.250000</td>\n      <td>0.353553</td>\n      <td>-0.500000</td>\n      <td>-0.375000</td>\n      <td>-0.250000</td>\n      <td>-0.125000</td>\n      <td>0.000000</td>\n    </tr>\n    <tr>\n      <th>Wigan</th>\n      <td>3.0</td>\n      <td>3963.666667</td>\n      <td>331.732322</td>\n      <td>3625.0</td>\n      <td>3801.50</td>\n      <td>3978.0</td>\n      <td>4133.00</td>\n      <td>4288.0</td>\n      <td>3.0</td>\n      <td>1.333333</td>\n      <td>...</td>\n      <td>0.108586</td>\n      <td>0.272727</td>\n      <td>3.0</td>\n      <td>0.064695</td>\n      <td>0.023047</td>\n      <td>0.047619</td>\n      <td>0.051587</td>\n      <td>0.055556</td>\n      <td>0.073232</td>\n      <td>0.090909</td>\n    </tr>\n  </tbody>\n</table>\n<p>1422 rows × 192 columns</p>\n</div>"
     },
     "execution_count": 5,
     "metadata": {},
     "output_type": "execute_result"
    }
   ],
   "source": [
    "grouped = dataset.groupby(['HomeTeam', 'AwayTeam'])\n",
    "\n",
    "# grouped.apply(print)\n",
    "grouped.describe()"
   ]
  },
  {
   "cell_type": "code",
   "execution_count": 6,
   "id": "3b12dafc",
   "metadata": {
    "ExecuteTime": {
     "end_time": "2024-04-25T17:56:36.530965Z",
     "start_time": "2024-04-25T17:56:36.424176Z"
    }
   },
   "outputs": [
    {
     "data": {
      "text/plain": "Index(['Unnamed: 0', 'Date', 'HomeTeam', 'AwayTeam', 'FTHG', 'FTAG', 'FTR',\n       'HTGS', 'ATGS', 'HTGC', 'ATGC', 'HTP', 'ATP', 'HM1', 'HM2', 'HM3',\n       'HM4', 'HM5', 'AM1', 'AM2', 'AM3', 'AM4', 'AM5', 'MW', 'HTFormPtsStr',\n       'ATFormPtsStr', 'HTFormPts', 'ATFormPts', 'HTWinStreak3',\n       'HTWinStreak5', 'HTLossStreak3', 'HTLossStreak5', 'ATWinStreak3',\n       'ATWinStreak5', 'ATLossStreak3', 'ATLossStreak5', 'HTGD', 'ATGD',\n       'DiffPts', 'DiffFormPts'],\n      dtype='object')"
     },
     "execution_count": 6,
     "metadata": {},
     "output_type": "execute_result"
    }
   ],
   "source": [
    "dataset.keys()"
   ]
  },
  {
   "cell_type": "code",
   "execution_count": 7,
   "id": "ba466bd0",
   "metadata": {
    "ExecuteTime": {
     "end_time": "2024-04-25T17:56:37.560562Z",
     "start_time": "2024-04-25T17:56:36.438500Z"
    }
   },
   "outputs": [
    {
     "ename": "ValueError",
     "evalue": "could not convert string to float: '19/08/00'",
     "output_type": "error",
     "traceback": [
      "\u001B[0;31m---------------------------------------------------------------------------\u001B[0m",
      "\u001B[0;31mValueError\u001B[0m                                Traceback (most recent call last)",
      "Cell \u001B[0;32mIn[7], line 2\u001B[0m\n\u001B[1;32m      1\u001B[0m plt\u001B[38;5;241m.\u001B[39mfigure(figsize\u001B[38;5;241m=\u001B[39m(\u001B[38;5;241m20\u001B[39m,\u001B[38;5;241m10\u001B[39m)) \n\u001B[0;32m----> 2\u001B[0m sns\u001B[38;5;241m.\u001B[39mheatmap(\u001B[43mdataset\u001B[49m\u001B[38;5;241;43m.\u001B[39;49m\u001B[43mcorr\u001B[49m\u001B[43m(\u001B[49m\u001B[43m)\u001B[49m, annot\u001B[38;5;241m=\u001B[39m \u001B[38;5;28;01mTrue\u001B[39;00m)\n",
      "File \u001B[0;32m/Library/Frameworks/Python.framework/Versions/3.11/lib/python3.11/site-packages/pandas/core/frame.py:11036\u001B[0m, in \u001B[0;36mDataFrame.corr\u001B[0;34m(self, method, min_periods, numeric_only)\u001B[0m\n\u001B[1;32m  11034\u001B[0m cols \u001B[38;5;241m=\u001B[39m data\u001B[38;5;241m.\u001B[39mcolumns\n\u001B[1;32m  11035\u001B[0m idx \u001B[38;5;241m=\u001B[39m cols\u001B[38;5;241m.\u001B[39mcopy()\n\u001B[0;32m> 11036\u001B[0m mat \u001B[38;5;241m=\u001B[39m \u001B[43mdata\u001B[49m\u001B[38;5;241;43m.\u001B[39;49m\u001B[43mto_numpy\u001B[49m\u001B[43m(\u001B[49m\u001B[43mdtype\u001B[49m\u001B[38;5;241;43m=\u001B[39;49m\u001B[38;5;28;43mfloat\u001B[39;49m\u001B[43m,\u001B[49m\u001B[43m \u001B[49m\u001B[43mna_value\u001B[49m\u001B[38;5;241;43m=\u001B[39;49m\u001B[43mnp\u001B[49m\u001B[38;5;241;43m.\u001B[39;49m\u001B[43mnan\u001B[49m\u001B[43m,\u001B[49m\u001B[43m \u001B[49m\u001B[43mcopy\u001B[49m\u001B[38;5;241;43m=\u001B[39;49m\u001B[38;5;28;43;01mFalse\u001B[39;49;00m\u001B[43m)\u001B[49m\n\u001B[1;32m  11038\u001B[0m \u001B[38;5;28;01mif\u001B[39;00m method \u001B[38;5;241m==\u001B[39m \u001B[38;5;124m\"\u001B[39m\u001B[38;5;124mpearson\u001B[39m\u001B[38;5;124m\"\u001B[39m:\n\u001B[1;32m  11039\u001B[0m     correl \u001B[38;5;241m=\u001B[39m libalgos\u001B[38;5;241m.\u001B[39mnancorr(mat, minp\u001B[38;5;241m=\u001B[39mmin_periods)\n",
      "File \u001B[0;32m/Library/Frameworks/Python.framework/Versions/3.11/lib/python3.11/site-packages/pandas/core/frame.py:1981\u001B[0m, in \u001B[0;36mDataFrame.to_numpy\u001B[0;34m(self, dtype, copy, na_value)\u001B[0m\n\u001B[1;32m   1979\u001B[0m \u001B[38;5;28;01mif\u001B[39;00m dtype \u001B[38;5;129;01mis\u001B[39;00m \u001B[38;5;129;01mnot\u001B[39;00m \u001B[38;5;28;01mNone\u001B[39;00m:\n\u001B[1;32m   1980\u001B[0m     dtype \u001B[38;5;241m=\u001B[39m np\u001B[38;5;241m.\u001B[39mdtype(dtype)\n\u001B[0;32m-> 1981\u001B[0m result \u001B[38;5;241m=\u001B[39m \u001B[38;5;28;43mself\u001B[39;49m\u001B[38;5;241;43m.\u001B[39;49m\u001B[43m_mgr\u001B[49m\u001B[38;5;241;43m.\u001B[39;49m\u001B[43mas_array\u001B[49m\u001B[43m(\u001B[49m\u001B[43mdtype\u001B[49m\u001B[38;5;241;43m=\u001B[39;49m\u001B[43mdtype\u001B[49m\u001B[43m,\u001B[49m\u001B[43m \u001B[49m\u001B[43mcopy\u001B[49m\u001B[38;5;241;43m=\u001B[39;49m\u001B[43mcopy\u001B[49m\u001B[43m,\u001B[49m\u001B[43m \u001B[49m\u001B[43mna_value\u001B[49m\u001B[38;5;241;43m=\u001B[39;49m\u001B[43mna_value\u001B[49m\u001B[43m)\u001B[49m\n\u001B[1;32m   1982\u001B[0m \u001B[38;5;28;01mif\u001B[39;00m result\u001B[38;5;241m.\u001B[39mdtype \u001B[38;5;129;01mis\u001B[39;00m \u001B[38;5;129;01mnot\u001B[39;00m dtype:\n\u001B[1;32m   1983\u001B[0m     result \u001B[38;5;241m=\u001B[39m np\u001B[38;5;241m.\u001B[39marray(result, dtype\u001B[38;5;241m=\u001B[39mdtype, copy\u001B[38;5;241m=\u001B[39m\u001B[38;5;28;01mFalse\u001B[39;00m)\n",
      "File \u001B[0;32m/Library/Frameworks/Python.framework/Versions/3.11/lib/python3.11/site-packages/pandas/core/internals/managers.py:1692\u001B[0m, in \u001B[0;36mBlockManager.as_array\u001B[0;34m(self, dtype, copy, na_value)\u001B[0m\n\u001B[1;32m   1690\u001B[0m         arr\u001B[38;5;241m.\u001B[39mflags\u001B[38;5;241m.\u001B[39mwriteable \u001B[38;5;241m=\u001B[39m \u001B[38;5;28;01mFalse\u001B[39;00m\n\u001B[1;32m   1691\u001B[0m \u001B[38;5;28;01melse\u001B[39;00m:\n\u001B[0;32m-> 1692\u001B[0m     arr \u001B[38;5;241m=\u001B[39m \u001B[38;5;28;43mself\u001B[39;49m\u001B[38;5;241;43m.\u001B[39;49m\u001B[43m_interleave\u001B[49m\u001B[43m(\u001B[49m\u001B[43mdtype\u001B[49m\u001B[38;5;241;43m=\u001B[39;49m\u001B[43mdtype\u001B[49m\u001B[43m,\u001B[49m\u001B[43m \u001B[49m\u001B[43mna_value\u001B[49m\u001B[38;5;241;43m=\u001B[39;49m\u001B[43mna_value\u001B[49m\u001B[43m)\u001B[49m\n\u001B[1;32m   1693\u001B[0m     \u001B[38;5;66;03m# The underlying data was copied within _interleave, so no need\u001B[39;00m\n\u001B[1;32m   1694\u001B[0m     \u001B[38;5;66;03m# to further copy if copy=True or setting na_value\u001B[39;00m\n\u001B[1;32m   1696\u001B[0m \u001B[38;5;28;01mif\u001B[39;00m na_value \u001B[38;5;129;01mis\u001B[39;00m lib\u001B[38;5;241m.\u001B[39mno_default:\n",
      "File \u001B[0;32m/Library/Frameworks/Python.framework/Versions/3.11/lib/python3.11/site-packages/pandas/core/internals/managers.py:1751\u001B[0m, in \u001B[0;36mBlockManager._interleave\u001B[0;34m(self, dtype, na_value)\u001B[0m\n\u001B[1;32m   1749\u001B[0m     \u001B[38;5;28;01melse\u001B[39;00m:\n\u001B[1;32m   1750\u001B[0m         arr \u001B[38;5;241m=\u001B[39m blk\u001B[38;5;241m.\u001B[39mget_values(dtype)\n\u001B[0;32m-> 1751\u001B[0m     \u001B[43mresult\u001B[49m\u001B[43m[\u001B[49m\u001B[43mrl\u001B[49m\u001B[38;5;241;43m.\u001B[39;49m\u001B[43mindexer\u001B[49m\u001B[43m]\u001B[49m \u001B[38;5;241m=\u001B[39m arr\n\u001B[1;32m   1752\u001B[0m     itemmask[rl\u001B[38;5;241m.\u001B[39mindexer] \u001B[38;5;241m=\u001B[39m \u001B[38;5;241m1\u001B[39m\n\u001B[1;32m   1754\u001B[0m \u001B[38;5;28;01mif\u001B[39;00m \u001B[38;5;129;01mnot\u001B[39;00m itemmask\u001B[38;5;241m.\u001B[39mall():\n",
      "\u001B[0;31mValueError\u001B[0m: could not convert string to float: '19/08/00'"
     ]
    },
    {
     "data": {
      "text/plain": "<Figure size 2000x1000 with 0 Axes>"
     },
     "metadata": {},
     "output_type": "display_data"
    }
   ],
   "source": [
    "plt.figure(figsize=(20,10)) \n",
    "sns.heatmap(dataset.corr(), annot= True)"
   ]
  },
  {
   "cell_type": "code",
   "execution_count": null,
   "id": "d54c818c",
   "metadata": {
    "ExecuteTime": {
     "start_time": "2024-04-25T17:56:37.162428Z"
    }
   },
   "outputs": [],
   "source": [
    "# Remove few column\n",
    "dataset2 = dataset.copy().drop(columns =['Date', 'HomeTeam', 'AwayTeam', 'FTHG', 'FTAG',\n",
    "       'HTGS', 'ATGS', 'HTGC', 'ATGC',\n",
    "       'HM4', 'HM5','AM4', 'AM5', 'MW', 'HTFormPtsStr',\n",
    "       'ATFormPtsStr', 'HTFormPts', 'ATFormPts', 'HTWinStreak3',\n",
    "       'HTWinStreak5', 'HTLossStreak3', 'HTLossStreak5', 'ATWinStreak3',\n",
    "       'ATWinStreak5', 'ATLossStreak3', 'ATLossStreak5',\n",
    "       'DiffPts'] )"
   ]
  },
  {
   "cell_type": "code",
   "execution_count": null,
   "id": "564b95d5",
   "metadata": {
    "ExecuteTime": {
     "start_time": "2024-04-25T17:56:37.162693Z"
    }
   },
   "outputs": [],
   "source": [
    "dataset2.keys()"
   ]
  },
  {
   "cell_type": "code",
   "execution_count": null,
   "id": "5dbd74c3",
   "metadata": {
    "ExecuteTime": {
     "start_time": "2024-04-25T17:56:37.163151Z"
    }
   },
   "outputs": [],
   "source": [
    "dataset2.head(10)"
   ]
  },
  {
   "cell_type": "code",
   "execution_count": null,
   "id": "f4385c37",
   "metadata": {
    "ExecuteTime": {
     "start_time": "2024-04-25T17:56:37.163865Z"
    }
   },
   "outputs": [],
   "source": [
    "#what is the win rate for the home team?\n",
    "\n",
    "# Total number of matches.\n",
    "n_matches = dataset2.shape[0]\n",
    "\n",
    "# Calculate number of features. -1 because we are saving one as the target variable (win/lose/draw)\n",
    "n_features = dataset2.shape[1] - 1\n",
    "\n",
    "# Calculate matches won by home team.\n",
    "n_homewins = len(dataset2[dataset2.FTR == 'H'])\n",
    "\n",
    "# Calculate win rate for home team.\n",
    "win_rate = (float(n_homewins) / (n_matches)) * 100\n",
    "\n",
    "# Print the results\n",
    "print(\"Total number of matches: {}\".format(n_matches))\n",
    "print (\"Number of features: {}\".format(n_features))\n",
    "print( \"Number of matches won by home team: {}\".format(n_homewins))\n",
    "print (\"Win rate of home team: {:.2f}%\".format(win_rate))"
   ]
  },
  {
   "cell_type": "code",
   "execution_count": null,
   "id": "b71491c7",
   "metadata": {
    "ExecuteTime": {
     "start_time": "2024-04-25T17:56:37.164925Z"
    }
   },
   "outputs": [],
   "source": [
    "# Visualising distribution of data\n",
    "from pandas.plotting import scatter_matrix\n",
    "\n",
    "#the scatter matrix is plotting each of the columns specified against each other column.\n",
    "#You would have observed that the diagonal graph is defined as a histogram, which means that in the \n",
    "#section of the plot matrix where the variable is against itself, a histogram is plotted.\n",
    "\n",
    "#Scatter plots show how much one variable is affected by another. \n",
    "#The relationship between two variables is called their correlation\n",
    "#negative vs positive correlation\n",
    "\n",
    "#HTGD - Home team goal difference\n",
    "#ATGD - away team goal difference\n",
    "#HTP - Home team points\n",
    "#ATP - Away team points\n",
    "#DiffFormPts Diff in points\n",
    "#DiffLP - Differnece in last years prediction\n",
    "\n",
    "scatter_matrix(dataset2[['HTGD','ATGD','HTP','ATP','DiffFormPts']], figsize=(15,15))"
   ]
  },
  {
   "cell_type": "code",
   "execution_count": null,
   "id": "87862352",
   "metadata": {
    "ExecuteTime": {
     "start_time": "2024-04-25T17:56:37.165183Z"
    }
   },
   "outputs": [],
   "source": [
    "# Separate into feature set and target variable\n",
    "#FTR = Full Time Result (H=Home Win, D=Draw, A=Away Win)\n",
    "X_all = dataset2.drop(['FTR'],1)\n",
    "y_all = dataset2['FTR']\n",
    "\n",
    "# Standardising the data.\n",
    "from sklearn.preprocessing import scale\n",
    "\n",
    "#Center to the mean and component wise scale to unit variance.\n",
    "cols = [['HTGD','ATGD','HTP','ATP']]\n",
    "for col in cols:\n",
    "    X_all[col] = scale(X_all[col])"
   ]
  },
  {
   "cell_type": "code",
   "execution_count": null,
   "id": "57063ab3",
   "metadata": {
    "ExecuteTime": {
     "start_time": "2024-04-25T17:56:37.165377Z"
    }
   },
   "outputs": [],
   "source": [
    "#last 3 wins for both sides\n",
    "X_all.HM1 = X_all.HM1.astype('str')\n",
    "X_all.HM2 = X_all.HM2.astype('str')\n",
    "X_all.HM3 = X_all.HM3.astype('str')\n",
    "X_all.AM1 = X_all.AM1.astype('str')\n",
    "X_all.AM2 = X_all.AM2.astype('str')\n",
    "X_all.AM3 = X_all.AM3.astype('str')\n",
    "\n",
    "#we want continous vars that are integers for our input data, so lets remove any categorical vars\n",
    "def preprocess_features(X):\n",
    "    ''' Preprocesses the football data and converts catagorical variables into dummy variables. '''\n",
    "    \n",
    "    # Initialize new output DataFrame\n",
    "    output = pd.DataFrame(index = X.index)\n",
    "\n",
    "    # Investigate each feature column for the data\n",
    "    for col, col_data in X.iteritems():\n",
    "\n",
    "        # If data type is categorical, convert to dummy variables\n",
    "        if col_data.dtype == object:\n",
    "            col_data = pd.get_dummies(col_data, prefix = col)\n",
    "                    \n",
    "        # Collect the revised columns\n",
    "        output = output.join(col_data)\n",
    "    \n",
    "    return output\n",
    "\n",
    "X_all = preprocess_features(X_all)\n",
    "print (\"Processed feature columns ({} total features):\\n{}\".format(len(X_all.columns), list(X_all.columns)))"
   ]
  },
  {
   "cell_type": "code",
   "execution_count": null,
   "id": "c362eeba",
   "metadata": {
    "ExecuteTime": {
     "start_time": "2024-04-25T17:56:37.165593Z"
    }
   },
   "outputs": [],
   "source": [
    "X_all.head(10)"
   ]
  },
  {
   "cell_type": "code",
   "execution_count": null,
   "id": "c60c878f",
   "metadata": {
    "ExecuteTime": {
     "start_time": "2024-04-25T17:56:37.183076Z"
    }
   },
   "outputs": [],
   "source": [
    "dataset2.drop(['FTR'],1)"
   ]
  },
  {
   "cell_type": "code",
   "execution_count": null,
   "id": "2b215478",
   "metadata": {
    "ExecuteTime": {
     "start_time": "2024-04-25T17:56:37.183616Z"
    }
   },
   "outputs": [],
   "source": [
    "# dataset2.drop(['FTR'],1)\n",
    "dataset3 = dataset.copy().drop(columns =['FTHG', 'FTAG',\n",
    "       'HTGS', 'ATGS', 'HTGC', 'ATGC',\n",
    "       'HM4', 'HM5','AM4', 'AM5', 'MW', 'HTFormPtsStr',\n",
    "       'ATFormPtsStr', 'HTFormPts', 'ATFormPts', 'HTWinStreak3',\n",
    "       'HTWinStreak5', 'HTLossStreak3', 'HTLossStreak5', 'ATWinStreak3',\n",
    "       'ATWinStreak5', 'ATLossStreak3', 'ATLossStreak5',\n",
    "       'DiffPts'] )\n",
    "dataset3"
   ]
  },
  {
   "cell_type": "code",
   "execution_count": null,
   "id": "6a0de7a7",
   "metadata": {
    "ExecuteTime": {
     "start_time": "2024-04-25T17:56:37.184500Z"
    }
   },
   "outputs": [],
   "source": [
    "from sklearn.model_selection import train_test_split\n",
    "\n",
    "# Shuffle and split the dataset into training and testing set.\n",
    "X_train, X_test, y_train, y_test = train_test_split(X_all, y_all, \n",
    "                                                    test_size = 0.3,\n",
    "                                                    random_state = 2,\n",
    "                                                    stratify = y_all)"
   ]
  },
  {
   "cell_type": "code",
   "execution_count": null,
   "id": "3f66816e",
   "metadata": {
    "ExecuteTime": {
     "start_time": "2024-04-25T17:56:37.184988Z"
    }
   },
   "outputs": [],
   "source": [
    "# Fitting Logistic Regression to the Training set\n",
    "from sklearn.linear_model import LogisticRegression\n",
    "classifier = LogisticRegression(random_state = 0)\n",
    "classifier.fit(X_train, y_train)"
   ]
  },
  {
   "cell_type": "code",
   "execution_count": null,
   "id": "be00086f",
   "metadata": {
    "ExecuteTime": {
     "start_time": "2024-04-25T17:56:37.186048Z"
    }
   },
   "outputs": [],
   "source": [
    "Y_pred = classifier.predict(X_test.iloc[[0]])\n",
    "print(Y_pred)"
   ]
  },
  {
   "cell_type": "code",
   "execution_count": null,
   "id": "1fc5a203",
   "metadata": {
    "ExecuteTime": {
     "start_time": "2024-04-25T17:56:37.186394Z"
    }
   },
   "outputs": [],
   "source": [
    "# Making the Confusion Matrix\n",
    "from sklearn.metrics import confusion_matrix, classification_report\n",
    "cm = confusion_matrix(y_test, Y_pred)"
   ]
  },
  {
   "cell_type": "code",
   "execution_count": null,
   "id": "4c901e70",
   "metadata": {
    "ExecuteTime": {
     "start_time": "2024-04-25T17:56:37.186829Z"
    }
   },
   "outputs": [],
   "source": [
    "sns.heatmap(cm, annot=True,fmt='d')"
   ]
  },
  {
   "cell_type": "code",
   "execution_count": null,
   "id": "a755178f",
   "metadata": {
    "ExecuteTime": {
     "start_time": "2024-04-25T17:56:37.187114Z"
    }
   },
   "outputs": [],
   "source": [
    "print(classification_report(y_test, Y_pred))"
   ]
  },
  {
   "cell_type": "code",
   "execution_count": null,
   "id": "68e329b1",
   "metadata": {
    "ExecuteTime": {
     "start_time": "2024-04-25T17:56:37.187338Z"
    }
   },
   "outputs": [],
   "source": [
    "from sklearn.neighbors import KNeighborsClassifier\n",
    "knn = KNeighborsClassifier()\n",
    "knn.fit(X_train, y_train)"
   ]
  },
  {
   "cell_type": "code",
   "execution_count": null,
   "id": "cc19e700",
   "metadata": {
    "ExecuteTime": {
     "start_time": "2024-04-25T17:56:37.195056Z"
    }
   },
   "outputs": [],
   "source": [
    "Y_pred = knn.predict(X_test)\n",
    "print(classification_report(y_test, Y_pred))"
   ]
  },
  {
   "cell_type": "code",
   "execution_count": null,
   "id": "4dd5b54a",
   "metadata": {
    "ExecuteTime": {
     "start_time": "2024-04-25T17:56:37.195283Z"
    }
   },
   "outputs": [],
   "source": [
    "from sklearn.tree import DecisionTreeClassifier\n",
    "dt = DecisionTreeClassifier(random_state=0)\n",
    "dt.fit(X_train, y_train)\n",
    "Y_pred = dt.predict(X_test)\n",
    "print(classification_report(y_test, Y_pred))"
   ]
  },
  {
   "cell_type": "code",
   "execution_count": null,
   "id": "dc890198",
   "metadata": {
    "ExecuteTime": {
     "start_time": "2024-04-25T17:56:37.195415Z"
    }
   },
   "outputs": [],
   "source": [
    "from sklearn.ensemble import GradientBoostingClassifier\n",
    "classifier = GradientBoostingClassifier(random_state=0)\n",
    "classifier.fit(X_train, y_train)\n",
    "Y_pred = classifier.predict(X_test)\n",
    "print(classification_report(y_test, Y_pred))"
   ]
  },
  {
   "cell_type": "code",
   "execution_count": null,
   "id": "b41b841e",
   "metadata": {
    "ExecuteTime": {
     "start_time": "2024-04-25T17:56:37.195673Z"
    }
   },
   "outputs": [],
   "source": [
    "from sklearn.naive_bayes import GaussianNB\n",
    "classifier = GaussianNB()\n",
    "classifier.fit(X_train, y_train)\n",
    "Y_pred = classifier.predict(X_test)\n",
    "print(classification_report(y_test, Y_pred))"
   ]
  },
  {
   "cell_type": "code",
   "execution_count": null,
   "id": "9c3432db",
   "metadata": {
    "ExecuteTime": {
     "start_time": "2024-04-25T17:56:37.199153Z"
    }
   },
   "outputs": [],
   "source": [
    "from sklearn.linear_model import LogisticRegression\n",
    "classifier = LogisticRegression(random_state=0, penalty='l2')  # You can try 'l1' as well\n",
    "classifier.fit(X_train, y_train)\n",
    "Y_pred = classifier.predict(X_test)\n",
    "print(classification_report(y_test, Y_pred))"
   ]
  },
  {
   "cell_type": "code",
   "execution_count": null,
   "id": "3f16d2ca",
   "metadata": {
    "ExecuteTime": {
     "start_time": "2024-04-25T17:56:37.199403Z"
    }
   },
   "outputs": [],
   "source": []
  },
  {
   "cell_type": "code",
   "execution_count": null,
   "id": "68c22f21",
   "metadata": {
    "ExecuteTime": {
     "start_time": "2024-04-25T17:56:37.199635Z"
    }
   },
   "outputs": [],
   "source": []
  },
  {
   "cell_type": "code",
   "execution_count": null,
   "id": "255c9f36",
   "metadata": {
    "ExecuteTime": {
     "start_time": "2024-04-25T17:56:37.199817Z"
    }
   },
   "outputs": [],
   "source": []
  },
  {
   "cell_type": "code",
   "execution_count": null,
   "id": "4c4e2b20",
   "metadata": {
    "ExecuteTime": {
     "start_time": "2024-04-25T17:56:37.200042Z"
    }
   },
   "outputs": [],
   "source": [
    "def make_pred(X_train):\n",
    "    \n",
    "    pred = classifier.predict(X_train)\n",
    "    return pred"
   ]
  },
  {
   "cell_type": "markdown",
   "id": "b16d5d7b",
   "metadata": {},
   "source": [
    "## Flask App"
   ]
  },
  {
   "cell_type": "code",
   "execution_count": null,
   "id": "d79c89c1",
   "metadata": {
    "ExecuteTime": {
     "start_time": "2024-04-25T17:56:37.200244Z"
    }
   },
   "outputs": [],
   "source": [
    "! pip install flask flask_wtf pandas sqlalchemy\n",
    "! pip install WTForms\n"
   ]
  },
  {
   "cell_type": "code",
   "execution_count": null,
   "id": "a27a4d78",
   "metadata": {
    "ExecuteTime": {
     "start_time": "2024-04-25T17:56:37.200423Z"
    }
   },
   "outputs": [],
   "source": [
    "from flask_wtf import FlaskForm\n",
    "from wtforms import StringField, SubmitField, FloatField\n",
    "from flask import Flask, render_template, redirect, url_for\n",
    "from flask_wtf.csrf import CSRFProtect\n",
    "import pandas as pd\n",
    "\n",
    "\n",
    "from flask import Flask, render_template, request, redirect, url_for, session\n",
    "from flask_sqlalchemy import SQLAlchemy\n",
    "from datetime import datetime\n",
    "\n",
    "app = Flask(__name__)\n",
    "csrf = CSRFProtect(app)\n",
    "\n",
    "app = Flask(__name__)\n",
    "app.secret_key = 'your_secret_key' \n",
    "app.config['SQLALCHEMY_DATABASE_URI'] = 'sqlite:///users.db'\n",
    "db = SQLAlchemy(app)\n",
    "\n",
    "team_codes = {\n",
    "    'charlton': 0, # \n",
    "    'chelsea': 1, #\n",
    "    'coventry': 2, #\n",
    "    'derby': 3, \n",
    "    'leeds': 4,\n",
    "    'leicester': 5, #\n",
    "    'liverpool': 6, #\n",
    "    'sunderland': 7,\n",
    "    'tottenham': 8, #\n",
    "    'man united': 9, #\n",
    "    'arsenal': 10, #\n",
    "    'bradford': 11,\n",
    "    'ipswich': 12,\n",
    "    'middlesbrough': 13,\n",
    "    'everton': 14, #\n",
    "    'man city': 15, #\n",
    "    'newcastle': 16, #\n",
    "    'southampton': 17, #\n",
    "    'west ham': 18, #\n",
    "    'aston villa': 19, #\n",
    "    'bolton': 20, \n",
    "    'blackburn': 21,\n",
    "    'fulham': 22, #\n",
    "    'birmingham': 23, #\n",
    "    'middlesboro': 24, #\n",
    "    'west brom': 25,\n",
    "    'portsmouth': 26,\n",
    "    'wolves': 27, #\n",
    "    'norwich': 28,\n",
    "    'crystal palace': 29, #\n",
    "    'wigan': 30,\n",
    "    'reading': 31,\n",
    "    'sheffield united': 32,\n",
    "    'watford': 33, #\n",
    "    'hull': 34,\n",
    "    'stoke': 35,\n",
    "    'burnley': 36, #\n",
    "    'blackpool': 37,\n",
    "    'qpr': 38,\n",
    "    'swansea': 39,\n",
    "    'cardiff': 40, #\n",
    "    'bournemouth': 41, #\n",
    "    'brighton': 42,\n",
    "    'huddersfield': 43\n",
    "}\n",
    "\n",
    "\n",
    "class MyForm(FlaskForm):\n",
    "    data1 = FloatField('Data 1')\n",
    "    data2 = FloatField('Data 2')\n",
    "    data3 = StringField('Data 3')\n",
    "    data4 = StringField('Data 4')\n",
    "    data5 = StringField('Data 5')\n",
    "    data6 = StringField('Data 6')\n",
    "    data7 = StringField('Data 7')\n",
    "    data8 = StringField('Data 8')\n",
    "    data9 = FloatField('Data 9')\n",
    "    data10 = FloatField('Data 10')\n",
    "    data11 = FloatField('Data 11')\n",
    "    pred = FloatField('pred')\n",
    "    submit = SubmitField('Submit')\n",
    "\n",
    "\n",
    "# Define the User model\n",
    "class User(db.Model):\n",
    "    id = db.Column(db.Integer, primary_key=True)\n",
    "    username = db.Column(db.String(80), unique=True, nullable=False)\n",
    "    password = db.Column(db.String(120), nullable=False)\n",
    "    email = db.Column(db.String(120), unique=True, nullable=False) \n",
    "    \n",
    "\n",
    "class Comment(db.Model):\n",
    "    id = db.Column(db.Integer, primary_key=True)\n",
    "    content = db.Column(db.Text, nullable=False)\n",
    "    match_index = db.Column(db.Integer, nullable=False) \n",
    "    user_id = db.Column(db.Integer, db.ForeignKey('user.id'), nullable=False)\n",
    "    user = db.relationship('User', backref=db.backref('comments', lazy=True))\n",
    "    timestamp = db.Column(db.DateTime, nullable=False, default=datetime.utcnow)\n",
    "\n",
    "\n",
    "\n",
    "dataset = None\n",
    "dataset2 = None\n",
    "matches = None\n",
    "team_names = None\n",
    "chosen_matches = []\n",
    "chosen_data_matches = []\n",
    "display_data = None\n",
    "mi = None\n",
    "players_by_team = {}\n",
    "\n",
    "\n",
    "def make_pred(X_test):\n",
    "    \n",
    "    print(X_test)\n",
    "    return X_test[0]+X_test[1]\n",
    "\n",
    "\n",
    "def work():\n",
    "\n",
    "    global dataset, dataset2, matches, players_by_team, display_data\n",
    "    dataset = pd.read_csv('final_dataset.csv')\n",
    "\n",
    "    dataset2 = dataset.copy().drop(columns =['FTR', 'Date', 'HomeTeam', 'AwayTeam', 'FTHG', 'FTAG',\n",
    "       'HTGS', 'ATGS', 'HTGC', 'ATGC',\n",
    "       'HM4', 'HM5','AM4', 'AM5', 'MW', 'HTFormPtsStr',\n",
    "       'ATFormPtsStr', 'HTFormPts', 'ATFormPts', 'HTWinStreak3',\n",
    "       'HTWinStreak5', 'HTLossStreak3', 'HTLossStreak5', 'ATWinStreak3',\n",
    "       'ATWinStreak5', 'ATLossStreak3', 'ATLossStreak5',\n",
    "       'DiffPts'] )\n",
    "    \n",
    "    display_data = dataset[['Date', 'HomeTeam', 'AwayTeam', 'FTHG', 'FTAG',\n",
    "       'HTGS', 'ATGS', 'HTGC', 'ATGC', 'HTP', 'ATP',\n",
    "       'HTFormPts', 'ATFormPts', 'HM1', 'AM1', 'HM2', 'AM2', 'HM3', 'AM3',\n",
    "       'HTWinStreak3', 'ATWinStreak3', 'HTLossStreak3', 'ATLossStreak3',\n",
    "       ]].copy()\n",
    "        \n",
    "    display_data = display_data.values.tolist()\n",
    "\n",
    "\n",
    "    matches_df = dataset[['HomeTeam', 'AwayTeam']].copy()\n",
    "    matches = [tuple(x) for x in matches_df.to_records(index=False)]\n",
    "    \n",
    "\n",
    "    df = pd.read_csv('Premier League Player Stats.csv')\n",
    "\n",
    "    for index, row in df.iterrows():\n",
    "        team = row['TEAM'].lower()\n",
    "        player = row['PLAYER']\n",
    "        \n",
    "        if team in players_by_team:\n",
    "            players_by_team[team].append(player)\n",
    "        else:\n",
    "            players_by_team[team] = [player]\n",
    "\n",
    "    new_names = {'wolverhampton wanderers' : 'wolves', 'brighton and hove albion' : 'brighton', 'leicester city': 'leicester', 'manchester city': 'man city', 'tottenham hotspur':'tottenham', 'manchester united':'man united', 'norwich city':'norwich', 'west ham united': 'west ham', 'newcastle united':'newcastle'}\n",
    "    \n",
    "    players_by_team = {new_names.get(old_key, old_key): value for old_key, value in players_by_team.items()}\n",
    "\n",
    "\n",
    "    players_by_team['birmingham'] = [\"John Smith\",\"Michael Johnson\",\"Christopher Brown\",\"Daniel Davis\",\"David Martinez\",\"Joseph Anderson\",\"James Taylor\",\"Robert Hernandez\",\"William Gonzalez\",\"Richard Wilson\",\"Thomas Moore\",\"Matthew Miller\"]\n",
    "    players_by_team['blackburn'] = [\"Benjamin Thompson\",\"Lucas Rodriguez\",\"Nathan Wright\",\"Samuel Martinez\",\"Oliver Harris\",\"Alexander Nelson\",\"William Carter\",\"Henry Mitchell\",\"Ethan Lopez\",\"Daniel Taylor\",\"James Scott\",\"Jacob King\"]\n",
    "    players_by_team['blackpool'] = [\"Michael Johnson\", \"David Anderson\", \"Christopher Martinez\",\"Matthew Turner\", \"Joseph Wilson\", \"Andrew Garcia\",\"Daniel Lee\", \"Ryan Rodriguez\", \"Tyler Hernandez\",\"John Smith\", \"Robert Brown\", \"Joshua Jones\"]\n",
    "    players_by_team['bolton'] = [ \"Kevin Thompson\", \"Brian Harris\", \"Anthony Martinez\", \"Justin Clark\", \"Steven Adams\", \"Brandon Lewis\", \"Eric Hall\", \"Adam White\", \"James Robinson\", \"Thomas Moore\", \"William Taylor\", \"Charles Jackson\"]\n",
    "    players_by_team['bradford'] = [\"Michael Johnson\", \"Christopher Brown\", \"Matthew Davis\", \"Daniel Miller\", \"Mark Wilson\", \"Richard Garcia\", \"Joseph Rodriguez\", \"David Martinez\", \"Anthony Hernandez\", \"Paul Lopez\", \"Andrew Gonzalez\", \"Joshua Young\"]\n",
    "    players_by_team['cardiff'] = [\"Jason Thompson\", \"Brian Lewis\", \"Kevin Scott\", \"Justin Green\", \"Brandon Hall\", \"Eric King\", \"Steven White\", \"Adam Adams\", \"Ryan Harris\", \"Thomas Clark\", \"Jeffrey Baker\", \"Gary Turner\"]\n",
    "    players_by_team['charlton'] = [\"Christopher Martinez\", \"Matthew Robinson\", \"Anthony Wright\", \"Daniel Lopez\", \"Kenneth Lee\", \"George Walker\", \"Ronald Perez\", \"Edward Hall\", \"James Gonzalez\", \"Timothy Young\", \"Joshua Martinez\", \"Michael Rodriguez\"]\n",
    "    players_by_team['coventry'] = [\"Brian Foster\", \"Thomas Martinez\", \"David Scott\", \"Steven Nelson\", \"Charles King\", \"Joseph Harris\", \"Paul Wright\", \"Mark Martinez\", \"Donald Miller\", \"Jason Rodriguez\", \"Jeffrey Clark\", \"Kevin Lewis\"]\n",
    "    players_by_team['derby'] = [\"Robert Johnson\", \"Michael Brown\", \"William Davis\", \"Richard Wilson\", \"James Taylor\", \"John Anderson\", \"Thomas Thomas\", \"Daniel Jackson\", \"Matthew White\", \"Christopher Harris\", \"Joseph Martin\", \"David Thompson\"]\n",
    "    players_by_team['fulham'] = [\"Andrew Clark\", \"Ryan Martinez\", \"Kevin Lewis\", \"Jeffrey Lee\", \"Brian Walker\", \"Timothy Hall\", \"Jason Young\", \"Eric Allen\", \"Steven Hernandez\", \"Scott King\", \"Justin Wright\", \"Brandon Hill\"]\n",
    "    players_by_team['huddersfield'] = [\"Christopher Martinez\", \"Matthew Lopez\", \"Daniel Taylor\", \"James Martinez\", \"David Thomas\", \"Brian Garcia\", \"Jose Rodriguez\", \"William Hernandez\", \"Anthony Martinez\", \"Michael Rodriguez\", \"Charles Martinez\", \"Joseph Rodriguez\"]\n",
    "    players_by_team['hull'] = ['Jessica Green', 'Michael Scott', 'Emily Johnson', 'Justin White', 'Megan Lee', 'Kevin Martinez', 'Rachel Davis', 'Tyler Wilson', 'Olivia Thompson', 'Daniel Harris', 'Lauren Turner', 'Matthew Clark']\n",
    "    players_by_team['ipswich'] = ['Sarah Adams', 'Ryan Parker', 'Amanda Miller', 'Brandon Mitchell', 'Jennifer Taylor', 'Christopher Brown', 'Stephanie Anderson', 'Andrew Martinez', 'Elizabeth Thomas', 'David Garcia', 'Rebecca Rodriguez', 'John Jackson']\n",
    "    players_by_team['leeds'] = ['Michael Wilson', 'Jessica Lee', 'Matthew Harris', 'Lauren Martinez', 'Daniel Thompson', 'Ashley Clark', 'Christopher Walker', 'Emily Rodriguez', 'Joshua White', 'Michelle Scott', 'Nicholas Lewis', 'Sarah Hall']\n",
    "    players_by_team['middlesboro'] = ['Alexis Johnson', 'Brandon Taylor', 'Olivia Thomas', 'Jacob Moore', 'Ava Garcia', 'Ethan Martinez', 'Sophia Anderson', 'William Brown', 'Mia Wilson', 'James Davis', 'Charlotte Miller', 'Daniel Rodriguez']\n",
    "    players_by_team['middlesbrough'] = ['Elijah Clark', 'Amelia Young', 'Michael Scott', 'Emily White', 'Ryan Lewis', 'Avery King', 'Lucas Turner', 'Madison Hill', 'Logan Adams', 'Harper Carter', 'Jackson Wright', 'Evelyn Lopez']\n",
    "    players_by_team['portsmouth'] = ['Emma Martinez', 'William Johnson', 'Olivia Brown', 'James Wilson', 'Isabella Anderson', 'Daniel Thompson', 'Sophia Harris', 'Alexander Davis', 'Mia Rodriguez', 'Benjamin Martinez', 'Charlotte Taylor', 'Jacob Garcia']\n",
    "    players_by_team['qpr'] = ['Liam Smith', 'Emma Johnson', 'Noah Williams', 'Olivia Brown', 'William Jones', 'Ava Davis', 'James Wilson', 'Sophia Miller', 'Alexander Taylor', 'Isabella Moore', 'Ethan Anderson', 'Charlotte White']\n",
    "    players_by_team['reading'] = ['Oliver Martinez', 'Sophia Taylor', 'Liam Johnson', 'Emma Brown', 'Noah Garcia', 'Olivia Rodriguez', 'William Hernandez', 'Ava Martinez', 'James Lopez', 'Isabella Perez', 'Ethan Gonzalez', 'Charlotte Moore']\n",
    "    players_by_team['stoke'] = ['Elijah Anderson', 'Amelia Martinez', 'James Johnson', 'Olivia Brown', 'William Garcia', 'Charlotte Wilson', 'Michael Rodriguez', 'Ava Hernandez', 'Alexander Lopez', 'Sophia Perez', 'Daniel Gonzalez', 'Mia Moore']\n",
    "    players_by_team['sunderland'] = ['Liam Taylor', 'Emma Thomas', 'Noah White', 'Olivia Harris', 'William Clark', 'Ava Lewis', 'James Turner', 'Isabella Baker', 'Logan Hall', 'Sophia Wright', 'Benjamin Hill', 'Emily Parker']\n",
    "    players_by_team['swansea'] = ['Jacob Johnson', 'Sophia Martinez', 'Mason Anderson', 'Ava Taylor', 'William Jackson', 'Isabella Thompson', 'James Harris', 'Olivia Nelson', 'Benjamin White', 'Charlotte Martinez', 'Elijah Robinson', 'Amelia Lewis']\n",
    "    players_by_team['westborn'] = ['Liam Brown', 'Emma Rodriguez', 'Noah Garcia', 'Olivia Martinez', 'William Lopez', 'Ava Wilson', 'James Martinez', 'Isabella Robinson', 'Oliver Clark', 'Sophia Walker', 'Benjamin Young', 'Mia Hernandez']\n",
    "    players_by_team['wigan'] = ['Ethan Taylor', 'Amelia Lewis', 'Michael White', 'Sophia Thompson', 'Alexander Hall', 'Ava Garcia', 'William Martin', 'Olivia Martinez', 'James Robinson', 'Isabella Johnson', 'Benjamin Brown', 'Mia Davis']\n",
    "\n",
    "\n",
    "work()\n",
    "\n",
    "\n",
    "@app.route('/home')\n",
    "def home():\n",
    "    global chosen_matches, display_data, chosen_data_matches\n",
    "\n",
    "    match_data = [(index, match) for index, match in enumerate(matches[:5])]\n",
    "    chosen_matches = match_data\n",
    "    chosen_data_matches = display_data[:5]\n",
    "\n",
    "    return render_template('index.html', match_data=match_data)\n",
    "\n",
    "# Create the database tables within application context\n",
    "with app.app_context():\n",
    "    db.create_all()\n",
    "\n",
    "@app.route('/')\n",
    "def index():\n",
    "    global chosen_matches, chosen_data_matches, display_data\n",
    "\n",
    "    if 'username' in session:\n",
    "        # comments = Comment.query.order_by(Comment.timestamp.desc()).all()\n",
    "        # return render_template('index.html', comments=comments)\n",
    "\n",
    "        match_data = [(index, match) for index, match in enumerate(matches[:5])]\n",
    "        chosen_matches = match_data\n",
    "\n",
    "        chosen_data_matches = display_data[:5]\n",
    "\n",
    "        return render_template('index.html', match_data=match_data)\n",
    "    else:\n",
    "        return redirect(url_for('login'))\n",
    "\n",
    "\n",
    "\n",
    "@app.route('/add_comment/<int:match_index>', methods=['POST'])\n",
    "def add_comment(match_index):\n",
    "    if 'username' in session:\n",
    "        content = request.form['content']\n",
    "        user = User.query.filter_by(username=session['username']).first()\n",
    "        if content:\n",
    "            new_comment = Comment(content=content, user=user, match_index=match_index)\n",
    "            db.session.add(new_comment)\n",
    "            db.session.commit()\n",
    "    \n",
    "    return redirect(url_for('show_match_data', match_index=match_index))\n",
    "\n",
    "\n",
    "\n",
    "@app.route('/register', methods=['GET', 'POST'])\n",
    "def register():\n",
    "    if request.method == 'POST':\n",
    "        username = request.form['username']\n",
    "        password = request.form['password']\n",
    "        email = request.form['email']  \n",
    "        if username and password and email: \n",
    "            # Check if the username already exists\n",
    "            existing_user = User.query.filter_by(username=username).first()\n",
    "            if existing_user:\n",
    "                return render_template('register.html', error='Username already exists. Please choose a different username.')\n",
    "            else:\n",
    "                # Check if the email already exists\n",
    "                existing_email = User.query.filter_by(email=email).first()\n",
    "                if existing_email:\n",
    "                    return render_template('register.html', error='Email already exists. Please choose a different email.')\n",
    "                else:\n",
    "                    # Create the new user\n",
    "                    new_user = User(username=username, password=password, email=email)\n",
    "                    db.session.add(new_user)\n",
    "                    db.session.commit()\n",
    "                    session['username'] = username\n",
    "                    return redirect(url_for('index'))\n",
    "    return render_template('register.html')\n",
    "\n",
    "\n",
    "# Update login route\n",
    "@app.route('/login', methods=['GET', 'POST'])\n",
    "def login():\n",
    "    if request.method == 'POST':\n",
    "        username_or_email = request.form['username_or_email']  # Retrieve username or email from form\n",
    "        password = request.form['password']\n",
    "        # Check if the input is an email or username\n",
    "        if '@' in username_or_email:\n",
    "            user = User.query.filter_by(email=username_or_email).first()  # Check if email exists\n",
    "        else:\n",
    "            user = User.query.filter_by(username=username_or_email).first()  # Check if username exists\n",
    "        \n",
    "        if user and user.password == password:\n",
    "            session['username'] = user.username\n",
    "            return redirect(url_for('index'))\n",
    "    return render_template('login.html')\n",
    "\n",
    "\n",
    "@app.route('/logout')\n",
    "def logout():\n",
    "    session.pop('username', None)\n",
    "    return redirect(url_for('login'))\n",
    "\n",
    "\n",
    "@app.route('/match/<int:match_index>', methods=['GET', 'POST'])\n",
    "def show_match_data(match_index):\n",
    "    global chosen_data_matches\n",
    "\n",
    "        \n",
    "    dataset2_values = dataset2.values.tolist()[match_index]\n",
    "    comments = Comment.query.filter_by(match_index=match_index).order_by(Comment.timestamp.desc()).all()\n",
    "    form = MyForm()\n",
    "\n",
    "    if form.validate_on_submit():\n",
    "\n",
    "        X_train = [ (form.data1.data) ,  (form.data2.data) ,  (form.data3.data) ,  (form.data4.data) ,  (form.data5.data) ,  (form.data6.data) ,  (form.data7.data) ,  (form.data8.data) ,  (form.data9.data) ,  (form.data10.data) ,  (form.data11.data) ]\n",
    "        pred = make_pred(X_train)\n",
    "\n",
    "        return render_template('match_data2.html', pred=pred, dataset2_values=dataset2_values, form=form, comments=comments, match_index=match_index, players_by_team=players_by_team, display_data=chosen_data_matches[match_index])\n",
    "\n",
    "    return render_template('match_data.html', dataset2_values=dataset2_values, form=form, comments=comments, match_index=match_index, players_by_team=players_by_team, display_data=chosen_data_matches[match_index])\n",
    "\n",
    "\n",
    "@app.route('/clear_form', methods=['POST'])\n",
    "def clear_form():\n",
    "    global msg\n",
    "    msg = 'New Data Fitted!'\n",
    "    form = MyForm()\n",
    "    if form.validate_on_submit():\n",
    "        print(form.pred.data)\n",
    "    print('\\n\\n', msg)\n",
    "    return redirect(url_for('home'))\n",
    "\n",
    "@app.route('/clear_form2', methods=['POST'])\n",
    "def clear_form2():\n",
    "    global msg\n",
    "    msg = ''\n",
    "    return redirect(url_for('home'))\n",
    "\n",
    "\n",
    "if __name__ == '__main__':\n",
    "    app.run(debug=True)\n"
   ]
  },
  {
   "cell_type": "code",
   "execution_count": null,
   "id": "a5b6b4f8",
   "metadata": {
    "ExecuteTime": {
     "start_time": "2024-04-25T17:56:37.200666Z"
    }
   },
   "outputs": [],
   "source": []
  }
 ],
 "metadata": {
  "kernelspec": {
   "display_name": "Python 3 (ipykernel)",
   "language": "python",
   "name": "python3"
  },
  "language_info": {
   "codemirror_mode": {
    "name": "ipython",
    "version": 3
   },
   "file_extension": ".py",
   "mimetype": "text/x-python",
   "name": "python",
   "nbconvert_exporter": "python",
   "pygments_lexer": "ipython3",
   "version": "3.11.4"
  }
 },
 "nbformat": 4,
 "nbformat_minor": 5
}
